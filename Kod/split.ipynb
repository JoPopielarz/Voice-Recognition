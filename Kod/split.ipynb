{
  "nbformat": 4,
  "nbformat_minor": 0,
  "metadata": {
    "kernelspec": {
      "display_name": "Python 3",
      "language": "python",
      "name": "python3"
    },
    "language_info": {
      "codemirror_mode": {
        "name": "ipython",
        "version": 3
      },
      "file_extension": ".py",
      "mimetype": "text/x-python",
      "name": "python",
      "nbconvert_exporter": "python",
      "pygments_lexer": "ipython3",
      "version": "3.7.6"
    },
    "colab": {
      "name": "split.ipynb",
      "provenance": [],
      "collapsed_sections": []
    }
  },
  "cells": [
    {
      "cell_type": "code",
      "metadata": {
        "colab": {
          "base_uri": "https://localhost:8080/"
        },
        "id": "HrrU88Zo4UpA",
        "outputId": "bcdd4451-0ed4-4218-fec2-d2ec05fc7470"
      },
      "source": [
        "!pip install pydub"
      ],
      "execution_count": null,
      "outputs": [
        {
          "output_type": "stream",
          "text": [
            "Collecting pydub\n",
            "  Downloading https://files.pythonhosted.org/packages/a6/53/d78dc063216e62fc55f6b2eebb447f6a4b0a59f55c8406376f76bf959b08/pydub-0.25.1-py2.py3-none-any.whl\n",
            "Installing collected packages: pydub\n",
            "Successfully installed pydub-0.25.1\n"
          ],
          "name": "stdout"
        }
      ]
    },
    {
      "cell_type": "code",
      "metadata": {
        "id": "Q58ILldo3Tmb"
      },
      "source": [
        "from pydub import AudioSegment\n",
        "import glob\n",
        "import pandas as pd\n",
        "import os"
      ],
      "execution_count": null,
      "outputs": []
    },
    {
      "cell_type": "code",
      "metadata": {
        "colab": {
          "base_uri": "https://localhost:8080/"
        },
        "id": "zwJHmLtJ98Ui",
        "outputId": "507f3d70-ab19-4d26-d865-54bfcdf3152d"
      },
      "source": [
        "txt_files = glob.glob(\"*.txt\")\n",
        "print(txt_files)\n",
        "name = txt_files[0]\n",
        "file_name = name[0:-4]\n",
        "print(file_name)"
      ],
      "execution_count": null,
      "outputs": [
        {
          "output_type": "stream",
          "text": [
            "['284424_24_K_23_4.txt', '289502_24_K_12_2.txt', '289502_24_K_20_4.txt', '289508_23_K_16_3.txt', '284427_25_K_17_3.txt', '289502_24_K_8_1.txt', '284427_25_K_9_1.txt', '289563_24_K_10_4.txt', '289563_24_K_22_1.txt', '289563_24_K_18_2.txt', '284424_24_K_15_2.txt', '284424_24_K_11_1.txt', '289502_24_K_16_3.txt', '289508_23_K_12_2.txt', '289563_24_K_13_3.txt', '284424_24_K_18_3.txt', '289508_23_K_20_4.txt', '284427_25_K_21_4.txt', '284427_25_K_13_2.txt', '289508_23_K_8_1.txt']\n",
            "284424_24_K_23_4\n"
          ],
          "name": "stdout"
        }
      ]
    },
    {
      "cell_type": "code",
      "metadata": {
        "id": "TP87AKzP-HrF"
      },
      "source": [
        "for j in range(len(txt_files)):  \n",
        "  X = pd.read_csv(txt_files[j], sep=\"\\t\", header=None)\n",
        "  name = txt_files[j]\n",
        "  file_name = name[0:-4]\n",
        "  for i in range(len(X)):\n",
        "    t1 = float(X.iat[i,0]) * 1000 #milisekundy\n",
        "    t2 = float(X.iat[i,1]) * 1000\n",
        "    newAudio = AudioSegment.from_wav(f\"{file_name}.wav\")\n",
        "    newAudio = newAudio[t1:t2]\n",
        "    sound_name=X.iat[i,2]\n",
        "    newAudio.export(f\"{sound_name}{j}.wav\", format=\"wav\")"
      ],
      "execution_count": null,
      "outputs": []
    }
  ]
}